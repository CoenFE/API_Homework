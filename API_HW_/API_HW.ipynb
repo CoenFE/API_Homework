{
 "cells": [
  {
   "cell_type": "markdown",
   "metadata": {},
   "source": [
    "# Unit 5 - Financial Planning"
   ]
  },
  {
   "cell_type": "code",
   "execution_count": 3,
   "metadata": {},
   "outputs": [],
   "source": [
    "# Initial imports\n",
    "import os\n",
    "import requests\n",
    "import pandas as pd\n",
    "from dotenv import load_dotenv\n",
    "import alpaca_trade_api as tradeapi\n",
    "from MCForecastTools import MCSimulation\n",
    "\n",
    "%matplotlib inline"
   ]
  },
  {
   "cell_type": "code",
   "execution_count": 4,
   "metadata": {},
   "outputs": [
    {
     "data": {
      "text/plain": [
       "True"
      ]
     },
     "execution_count": 4,
     "metadata": {},
     "output_type": "execute_result"
    }
   ],
   "source": [
    "# Load .env enviroment variables\n",
    "load_dotenv()"
   ]
  },
  {
   "cell_type": "markdown",
   "metadata": {},
   "source": [
    "## Part 1 - Personal Finance Planner"
   ]
  },
  {
   "cell_type": "markdown",
   "metadata": {},
   "source": [
    "### Collect Crypto Prices Using the `requests` Library"
   ]
  },
  {
   "cell_type": "code",
   "execution_count": 5,
   "metadata": {},
   "outputs": [],
   "source": [
    "# Set current amount of crypto assets\n",
    "my_btc = 1.2\n",
    "my_eth = 5.3"
   ]
  },
  {
   "cell_type": "code",
   "execution_count": 6,
   "metadata": {},
   "outputs": [],
   "source": [
    "# Crypto API URLs\n",
    "btc_url = \"https://api.alternative.me/v2/ticker/Bitcoin/?convert=CAD\"\n",
    "eth_url = \"https://api.alternative.me/v2/ticker/Ethereum/?convert=CAD\""
   ]
  },
  {
   "cell_type": "code",
   "execution_count": 7,
   "metadata": {},
   "outputs": [
    {
     "name": "stdout",
     "output_type": "stream",
     "text": [
      "The current value of your 1.2 BTC is $57977.14\n",
      "The current value of your 5.3 ETH is $19166.82\n"
     ]
    }
   ],
   "source": [
    "# Fetch current BTC price\n",
    "btc_data = requests.get(btc_url)\n",
    "btc_content = btc_data.json()\n",
    "btc_value = btc_content[\"data\"][\"1\"][\"quotes\"][\"CAD\"][\"price\"]\n",
    "\n",
    "# Fetch current ETH price\n",
    "eth_data = requests.get(eth_url)\n",
    "eth_content = eth_data.json()\n",
    "eth_value = eth_content[\"data\"][\"1027\"][\"quotes\"][\"CAD\"][\"price\"]\n",
    "# Compute current value of my crpto\n",
    "my_btc_value = btc_value * my_btc\n",
    "my_eth_value = eth_value * my_eth\n",
    "\n",
    "# Print current crypto wallet balance\n",
    "print(f\"The current value of your {my_btc} BTC is ${my_btc_value:0.2f}\")\n",
    "print(f\"The current value of your {my_eth} ETH is ${my_eth_value:0.2f}\")"
   ]
  },
  {
   "cell_type": "markdown",
   "metadata": {},
   "source": [
    "### Collect Investments Data Using Alpaca: `SPY` (stocks) and `AGG` (bonds)"
   ]
  },
  {
   "cell_type": "code",
   "execution_count": 8,
   "metadata": {},
   "outputs": [],
   "source": [
    "# Set current amount of shares\n",
    "my_agg = 200\n",
    "my_spy = 50"
   ]
  },
  {
   "cell_type": "code",
   "execution_count": 9,
   "metadata": {},
   "outputs": [],
   "source": [
    "# Set Alpaca API key and secret\n",
    "alpaca_api_key = os.getenv(\"ALPACA_API_KEY\")\n",
    "alpaca_secret_key = os.getenv(\"ALPACA_SECRET_KEY\")\n",
    "\n",
    "# Create the Alpaca API object\n",
    "alpaca = tradeapi.REST(\n",
    "    alpaca_api_key,\n",
    "    alpaca_secret_key,\n",
    "    api_version = \"v2\")"
   ]
  },
  {
   "cell_type": "code",
   "execution_count": 27,
   "metadata": {},
   "outputs": [
    {
     "data": {
      "text/html": [
       "<div>\n",
       "<style scoped>\n",
       "    .dataframe tbody tr th:only-of-type {\n",
       "        vertical-align: middle;\n",
       "    }\n",
       "\n",
       "    .dataframe tbody tr th {\n",
       "        vertical-align: top;\n",
       "    }\n",
       "\n",
       "    .dataframe thead tr th {\n",
       "        text-align: left;\n",
       "    }\n",
       "\n",
       "    .dataframe thead tr:last-of-type th {\n",
       "        text-align: right;\n",
       "    }\n",
       "</style>\n",
       "<table border=\"1\" class=\"dataframe\">\n",
       "  <thead>\n",
       "    <tr>\n",
       "      <th></th>\n",
       "      <th colspan=\"5\" halign=\"left\">AGG</th>\n",
       "      <th colspan=\"5\" halign=\"left\">SPY</th>\n",
       "    </tr>\n",
       "    <tr>\n",
       "      <th></th>\n",
       "      <th>open</th>\n",
       "      <th>high</th>\n",
       "      <th>low</th>\n",
       "      <th>close</th>\n",
       "      <th>volume</th>\n",
       "      <th>open</th>\n",
       "      <th>high</th>\n",
       "      <th>low</th>\n",
       "      <th>close</th>\n",
       "      <th>volume</th>\n",
       "    </tr>\n",
       "    <tr>\n",
       "      <th>time</th>\n",
       "      <th></th>\n",
       "      <th></th>\n",
       "      <th></th>\n",
       "      <th></th>\n",
       "      <th></th>\n",
       "      <th></th>\n",
       "      <th></th>\n",
       "      <th></th>\n",
       "      <th></th>\n",
       "      <th></th>\n",
       "    </tr>\n",
       "  </thead>\n",
       "  <tbody>\n",
       "    <tr>\n",
       "      <th>2022-01-31 00:00:00-05:00</th>\n",
       "      <td>111.64</td>\n",
       "      <td>111.89</td>\n",
       "      <td>111.6</td>\n",
       "      <td>111.78</td>\n",
       "      <td>11437834</td>\n",
       "      <td>441.24</td>\n",
       "      <td>450.28</td>\n",
       "      <td>439.81</td>\n",
       "      <td>449.815</td>\n",
       "      <td>128202383</td>\n",
       "    </tr>\n",
       "  </tbody>\n",
       "</table>\n",
       "</div>"
      ],
      "text/plain": [
       "                              AGG                                      SPY  \\\n",
       "                             open    high    low   close    volume    open   \n",
       "time                                                                         \n",
       "2022-01-31 00:00:00-05:00  111.64  111.89  111.6  111.78  11437834  441.24   \n",
       "\n",
       "                                                               \n",
       "                             high     low    close     volume  \n",
       "time                                                           \n",
       "2022-01-31 00:00:00-05:00  450.28  439.81  449.815  128202383  "
      ]
     },
     "execution_count": 27,
     "metadata": {},
     "output_type": "execute_result"
    }
   ],
   "source": [
    "# Format current date as ISO format\n",
    "today = pd.Timestamp(\"2022-02-01\" , tz = \"Australia/Sydney\").isoformat()\n",
    "\n",
    "# Set the tickers\n",
    "tickers = [\"AGG\", \"SPY\"]\n",
    "\n",
    "# Set timeframe to '1D' for Alpaca API\n",
    "timeframe = \"1D\"\n",
    "\n",
    "# Get current closing prices for SPY and AGG\n",
    "df_portfolio = alpaca.get_barset(\n",
    "    tickers, \n",
    "    timeframe, \n",
    "    start = today, \n",
    "    end = today\n",
    ").df\n",
    "    \n",
    "# Preview DataFrame\n",
    "df_portfolio.head()"
   ]
  },
  {
   "cell_type": "code",
   "execution_count": 13,
   "metadata": {},
   "outputs": [
    {
     "name": "stdout",
     "output_type": "stream",
     "text": [
      "Current AGG closing price: $111.78\n",
      "Current SPY closing price: $449.815\n"
     ]
    }
   ],
   "source": [
    "# Pick AGG and SPY close prices\n",
    "agg_close_price = df_portfolio[\"AGG\"][\"close\"].item()\n",
    "spy_close_price = df_portfolio[\"SPY\"][\"close\"].item()\n",
    "\n",
    "# Print AGG and SPY close prices\n",
    "print(f\"Current AGG closing price: ${agg_close_price}\")\n",
    "print(f\"Current SPY closing price: ${spy_close_price}\")"
   ]
  },
  {
   "cell_type": "code",
   "execution_count": 14,
   "metadata": {},
   "outputs": [
    {
     "name": "stdout",
     "output_type": "stream",
     "text": [
      "The current value of your 50 SPY shares is $22490.75\n",
      "The current value of your 200 AGG shares is $22356.00\n"
     ]
    }
   ],
   "source": [
    "# Compute the current value of shares\n",
    "my_spy_value = my_spy * spy_close_price\n",
    "my_agg_value = my_agg * agg_close_price\n",
    "\n",
    "# Print current value of shares\n",
    "print(f\"The current value of your {my_spy} SPY shares is ${my_spy_value:0.2f}\")\n",
    "print(f\"The current value of your {my_agg} AGG shares is ${my_agg_value:0.2f}\")"
   ]
  },
  {
   "cell_type": "markdown",
   "metadata": {},
   "source": [
    "### Savings Health Analysis"
   ]
  },
  {
   "cell_type": "code",
   "execution_count": 16,
   "metadata": {},
   "outputs": [
    {
     "data": {
      "text/html": [
       "<div>\n",
       "<style scoped>\n",
       "    .dataframe tbody tr th:only-of-type {\n",
       "        vertical-align: middle;\n",
       "    }\n",
       "\n",
       "    .dataframe tbody tr th {\n",
       "        vertical-align: top;\n",
       "    }\n",
       "\n",
       "    .dataframe thead th {\n",
       "        text-align: right;\n",
       "    }\n",
       "</style>\n",
       "<table border=\"1\" class=\"dataframe\">\n",
       "  <thead>\n",
       "    <tr style=\"text-align: right;\">\n",
       "      <th></th>\n",
       "      <th>Amount</th>\n",
       "    </tr>\n",
       "  </thead>\n",
       "  <tbody>\n",
       "    <tr>\n",
       "      <th>Crypto</th>\n",
       "      <td>77143.957288</td>\n",
       "    </tr>\n",
       "    <tr>\n",
       "      <th>Shares</th>\n",
       "      <td>44846.750000</td>\n",
       "    </tr>\n",
       "  </tbody>\n",
       "</table>\n",
       "</div>"
      ],
      "text/plain": [
       "              Amount\n",
       "Crypto  77143.957288\n",
       "Shares  44846.750000"
      ]
     },
     "metadata": {},
     "output_type": "display_data"
    }
   ],
   "source": [
    "# Set monthly household income\n",
    "monthly_income = 12000\n",
    "\n",
    "# Consolidate financial assets data\n",
    "total_portfolio_dictionary = {'Amount': [my_btc_value+my_eth_value, my_spy_value+my_agg_value]}\n",
    "\n",
    "# Create savings DataFrame\n",
    "df_savings = pd.DataFrame(total_portfolio_dictionary,index=['Crypto','Shares'])\n",
    "\n",
    "# Display savings DataFrame\n",
    "display(df_savings)"
   ]
  },
  {
   "cell_type": "code",
   "execution_count": 17,
   "metadata": {},
   "outputs": [
    {
     "data": {
      "text/plain": [
       "array([<AxesSubplot:ylabel='Amount'>], dtype=object)"
      ]
     },
     "execution_count": 17,
     "metadata": {},
     "output_type": "execute_result"
    },
    {
     "data": {
      "image/png": "[encoded data removed]",
      "text/plain": [
       "<Figure size 432x288 with 1 Axes>"
      ]
     },
     "metadata": {},
     "output_type": "display_data"
    }
   ],
   "source": [
    "# Plot savings pie chart\n",
    "df_savings.plot(kind = \"pie\", subplots = True, title = \"My Savings Portfolio\")"
   ]
  },
  {
   "cell_type": "code",
   "execution_count": 21,
   "metadata": {},
   "outputs": [
    {
     "name": "stdout",
     "output_type": "stream",
     "text": [
      "Congratulations, you have more then three months of income in your emergency fund.\n"
     ]
    }
   ],
   "source": [
    "# Set ideal emergency fund\n",
    "emergency_fund = monthly_income * 3\n",
    "\n",
    "# Calculate total amount of savings\n",
    "total_savings = df_savings.sum().item()\n",
    "#total_savings\n",
    "\n",
    "# Validate saving health\n",
    "dollars_from_goal = emergency_fund - total_savings\n",
    "\n",
    "if total_savings > emergency_fund:\n",
    "    print(\"Congratulations, you have more then three months of income in your emergency fund.\")\n",
    "elif total_savings == emergency_fund:\n",
    "    print(\"Congratulations you have reached your savings goal of three times your monthly income in your emergency fund.\")\n",
    "else:\n",
    "    print(f'You are ${dollars_from_goal} away from reaching your savings goal of three months of income in your emergency fund.')"
   ]
  },
  {
   "cell_type": "markdown",
   "metadata": {},
   "source": [
    "## Part 2 - Retirement Planning\n",
    "\n",
    "### Monte Carlo Simulation"
   ]
  },
  {
   "cell_type": "code",
   "execution_count": 28,
   "metadata": {},
   "outputs": [],
   "source": [
    "# Set start and end dates of five years back from today.\n",
    "# Sample results may vary from the solution based on the time frame chosen\n",
    "start_date = pd.Timestamp('2017-02-01', tz=\"Australia/Sydney\").isoformat()\n",
    "end_date = pd.Timestamp('2022-02-01', tz=\"Australia/Sydney\").isoformat()"
   ]
  },
  {
   "cell_type": "code",
   "execution_count": 29,
   "metadata": {},
   "outputs": [
    {
     "data": {
      "text/html": [
       "<div>\n",
       "<style scoped>\n",
       "    .dataframe tbody tr th:only-of-type {\n",
       "        vertical-align: middle;\n",
       "    }\n",
       "\n",
       "    .dataframe tbody tr th {\n",
       "        vertical-align: top;\n",
       "    }\n",
       "\n",
       "    .dataframe thead tr th {\n",
       "        text-align: left;\n",
       "    }\n",
       "\n",
       "    .dataframe thead tr:last-of-type th {\n",
       "        text-align: right;\n",
       "    }\n",
       "</style>\n",
       "<table border=\"1\" class=\"dataframe\">\n",
       "  <thead>\n",
       "    <tr>\n",
       "      <th></th>\n",
       "      <th colspan=\"5\" halign=\"left\">AGG</th>\n",
       "      <th colspan=\"5\" halign=\"left\">SPY</th>\n",
       "    </tr>\n",
       "    <tr>\n",
       "      <th></th>\n",
       "      <th>open</th>\n",
       "      <th>high</th>\n",
       "      <th>low</th>\n",
       "      <th>close</th>\n",
       "      <th>volume</th>\n",
       "      <th>open</th>\n",
       "      <th>high</th>\n",
       "      <th>low</th>\n",
       "      <th>close</th>\n",
       "      <th>volume</th>\n",
       "    </tr>\n",
       "    <tr>\n",
       "      <th>time</th>\n",
       "      <th></th>\n",
       "      <th></th>\n",
       "      <th></th>\n",
       "      <th></th>\n",
       "      <th></th>\n",
       "      <th></th>\n",
       "      <th></th>\n",
       "      <th></th>\n",
       "      <th></th>\n",
       "      <th></th>\n",
       "    </tr>\n",
       "  </thead>\n",
       "  <tbody>\n",
       "    <tr>\n",
       "      <th>2018-02-12 00:00:00-05:00</th>\n",
       "      <td>106.74</td>\n",
       "      <td>106.9450</td>\n",
       "      <td>106.6632</td>\n",
       "      <td>106.77</td>\n",
       "      <td>5075086</td>\n",
       "      <td>263.87</td>\n",
       "      <td>267.01</td>\n",
       "      <td>261.88</td>\n",
       "      <td>265.26</td>\n",
       "      <td>99933794</td>\n",
       "    </tr>\n",
       "    <tr>\n",
       "      <th>2018-02-13 00:00:00-05:00</th>\n",
       "      <td>106.79</td>\n",
       "      <td>106.9100</td>\n",
       "      <td>106.7000</td>\n",
       "      <td>106.83</td>\n",
       "      <td>3689890</td>\n",
       "      <td>263.94</td>\n",
       "      <td>266.62</td>\n",
       "      <td>263.31</td>\n",
       "      <td>266.01</td>\n",
       "      <td>56891150</td>\n",
       "    </tr>\n",
       "    <tr>\n",
       "      <th>2018-02-14 00:00:00-05:00</th>\n",
       "      <td>106.57</td>\n",
       "      <td>106.6600</td>\n",
       "      <td>106.4039</td>\n",
       "      <td>106.46</td>\n",
       "      <td>3695997</td>\n",
       "      <td>264.47</td>\n",
       "      <td>270.00</td>\n",
       "      <td>263.97</td>\n",
       "      <td>269.71</td>\n",
       "      <td>86705860</td>\n",
       "    </tr>\n",
       "    <tr>\n",
       "      <th>2018-02-15 00:00:00-05:00</th>\n",
       "      <td>106.55</td>\n",
       "      <td>106.7272</td>\n",
       "      <td>106.5300</td>\n",
       "      <td>106.59</td>\n",
       "      <td>2398428</td>\n",
       "      <td>271.59</td>\n",
       "      <td>273.01</td>\n",
       "      <td>268.77</td>\n",
       "      <td>273.00</td>\n",
       "      <td>72021939</td>\n",
       "    </tr>\n",
       "    <tr>\n",
       "      <th>2018-02-16 00:00:00-05:00</th>\n",
       "      <td>106.85</td>\n",
       "      <td>106.8750</td>\n",
       "      <td>106.7100</td>\n",
       "      <td>106.81</td>\n",
       "      <td>3391074</td>\n",
       "      <td>272.31</td>\n",
       "      <td>275.32</td>\n",
       "      <td>272.27</td>\n",
       "      <td>273.09</td>\n",
       "      <td>76314679</td>\n",
       "    </tr>\n",
       "  </tbody>\n",
       "</table>\n",
       "</div>"
      ],
      "text/plain": [
       "                              AGG                                       \\\n",
       "                             open      high       low   close   volume   \n",
       "time                                                                     \n",
       "2018-02-12 00:00:00-05:00  106.74  106.9450  106.6632  106.77  5075086   \n",
       "2018-02-13 00:00:00-05:00  106.79  106.9100  106.7000  106.83  3689890   \n",
       "2018-02-14 00:00:00-05:00  106.57  106.6600  106.4039  106.46  3695997   \n",
       "2018-02-15 00:00:00-05:00  106.55  106.7272  106.5300  106.59  2398428   \n",
       "2018-02-16 00:00:00-05:00  106.85  106.8750  106.7100  106.81  3391074   \n",
       "\n",
       "                              SPY                                    \n",
       "                             open    high     low   close    volume  \n",
       "time                                                                 \n",
       "2018-02-12 00:00:00-05:00  263.87  267.01  261.88  265.26  99933794  \n",
       "2018-02-13 00:00:00-05:00  263.94  266.62  263.31  266.01  56891150  \n",
       "2018-02-14 00:00:00-05:00  264.47  270.00  263.97  269.71  86705860  \n",
       "2018-02-15 00:00:00-05:00  271.59  273.01  268.77  273.00  72021939  \n",
       "2018-02-16 00:00:00-05:00  272.31  275.32  272.27  273.09  76314679  "
      ]
     },
     "execution_count": 29,
     "metadata": {},
     "output_type": "execute_result"
    }
   ],
   "source": [
    "# Get 5 years' worth of historical data for SPY and AGG\n",
    "# (use a limit=1000 parameter to call the most recent 1000 days of data)\n",
    "\n",
    "df_stock_data = alpaca.get_barset(\n",
    "    tickers,\n",
    "    timeframe,\n",
    "    start = start_date,\n",
    "    end = end_date,\n",
    "    limit = 1000\n",
    ").df\n",
    "\n",
    "# Display sample data\n",
    "df_stock_data.head()"
   ]
  },
  {
   "cell_type": "code",
   "execution_count": 31,
   "metadata": {},
   "outputs": [],
   "source": [
    "# Configuring a Monte Carlo simulation to forecast 30 years cumulative returns\n",
    "mc_thirty = MCSimulation(\n",
    "    portfolio_data = df_stock_data,\n",
    "    weights = [.40,.60],\n",
    "    num_simulation = 500,\n",
    "    num_trading_days = 252*30\n",
    ")"
   ]
  },
  {
   "cell_type": "code",
   "execution_count": 33,
   "metadata": {},
   "outputs": [
    {
     "data": {
      "text/html": [
       "<div>\n",
       "<style scoped>\n",
       "    .dataframe tbody tr th:only-of-type {\n",
       "        vertical-align: middle;\n",
       "    }\n",
       "\n",
       "    .dataframe tbody tr th {\n",
       "        vertical-align: top;\n",
       "    }\n",
       "\n",
       "    .dataframe thead tr th {\n",
       "        text-align: left;\n",
       "    }\n",
       "\n",
       "    .dataframe thead tr:last-of-type th {\n",
       "        text-align: right;\n",
       "    }\n",
       "</style>\n",
       "<table border=\"1\" class=\"dataframe\">\n",
       "  <thead>\n",
       "    <tr>\n",
       "      <th></th>\n",
       "      <th colspan=\"6\" halign=\"left\">AGG</th>\n",
       "      <th colspan=\"6\" halign=\"left\">SPY</th>\n",
       "    </tr>\n",
       "    <tr>\n",
       "      <th></th>\n",
       "      <th>open</th>\n",
       "      <th>high</th>\n",
       "      <th>low</th>\n",
       "      <th>close</th>\n",
       "      <th>volume</th>\n",
       "      <th>daily_return</th>\n",
       "      <th>open</th>\n",
       "      <th>high</th>\n",
       "      <th>low</th>\n",
       "      <th>close</th>\n",
       "      <th>volume</th>\n",
       "      <th>daily_return</th>\n",
       "    </tr>\n",
       "    <tr>\n",
       "      <th>time</th>\n",
       "      <th></th>\n",
       "      <th></th>\n",
       "      <th></th>\n",
       "      <th></th>\n",
       "      <th></th>\n",
       "      <th></th>\n",
       "      <th></th>\n",
       "      <th></th>\n",
       "      <th></th>\n",
       "      <th></th>\n",
       "      <th></th>\n",
       "      <th></th>\n",
       "    </tr>\n",
       "  </thead>\n",
       "  <tbody>\n",
       "    <tr>\n",
       "      <th>2018-02-12 00:00:00-05:00</th>\n",
       "      <td>106.74</td>\n",
       "      <td>106.9450</td>\n",
       "      <td>106.6632</td>\n",
       "      <td>106.77</td>\n",
       "      <td>5075086</td>\n",
       "      <td>NaN</td>\n",
       "      <td>263.87</td>\n",
       "      <td>267.01</td>\n",
       "      <td>261.88</td>\n",
       "      <td>265.26</td>\n",
       "      <td>99933794</td>\n",
       "      <td>NaN</td>\n",
       "    </tr>\n",
       "    <tr>\n",
       "      <th>2018-02-13 00:00:00-05:00</th>\n",
       "      <td>106.79</td>\n",
       "      <td>106.9100</td>\n",
       "      <td>106.7000</td>\n",
       "      <td>106.83</td>\n",
       "      <td>3689890</td>\n",
       "      <td>0.000562</td>\n",
       "      <td>263.94</td>\n",
       "      <td>266.62</td>\n",
       "      <td>263.31</td>\n",
       "      <td>266.01</td>\n",
       "      <td>56891150</td>\n",
       "      <td>0.002827</td>\n",
       "    </tr>\n",
       "    <tr>\n",
       "      <th>2018-02-14 00:00:00-05:00</th>\n",
       "      <td>106.57</td>\n",
       "      <td>106.6600</td>\n",
       "      <td>106.4039</td>\n",
       "      <td>106.46</td>\n",
       "      <td>3695997</td>\n",
       "      <td>-0.003463</td>\n",
       "      <td>264.47</td>\n",
       "      <td>270.00</td>\n",
       "      <td>263.97</td>\n",
       "      <td>269.71</td>\n",
       "      <td>86705860</td>\n",
       "      <td>0.013909</td>\n",
       "    </tr>\n",
       "    <tr>\n",
       "      <th>2018-02-15 00:00:00-05:00</th>\n",
       "      <td>106.55</td>\n",
       "      <td>106.7272</td>\n",
       "      <td>106.5300</td>\n",
       "      <td>106.59</td>\n",
       "      <td>2398428</td>\n",
       "      <td>0.001221</td>\n",
       "      <td>271.59</td>\n",
       "      <td>273.01</td>\n",
       "      <td>268.77</td>\n",
       "      <td>273.00</td>\n",
       "      <td>72021939</td>\n",
       "      <td>0.012198</td>\n",
       "    </tr>\n",
       "    <tr>\n",
       "      <th>2018-02-16 00:00:00-05:00</th>\n",
       "      <td>106.85</td>\n",
       "      <td>106.8750</td>\n",
       "      <td>106.7100</td>\n",
       "      <td>106.81</td>\n",
       "      <td>3391074</td>\n",
       "      <td>0.002064</td>\n",
       "      <td>272.31</td>\n",
       "      <td>275.32</td>\n",
       "      <td>272.27</td>\n",
       "      <td>273.09</td>\n",
       "      <td>76314679</td>\n",
       "      <td>0.000330</td>\n",
       "    </tr>\n",
       "  </tbody>\n",
       "</table>\n",
       "</div>"
      ],
      "text/plain": [
       "                              AGG                                       \\\n",
       "                             open      high       low   close   volume   \n",
       "time                                                                     \n",
       "2018-02-12 00:00:00-05:00  106.74  106.9450  106.6632  106.77  5075086   \n",
       "2018-02-13 00:00:00-05:00  106.79  106.9100  106.7000  106.83  3689890   \n",
       "2018-02-14 00:00:00-05:00  106.57  106.6600  106.4039  106.46  3695997   \n",
       "2018-02-15 00:00:00-05:00  106.55  106.7272  106.5300  106.59  2398428   \n",
       "2018-02-16 00:00:00-05:00  106.85  106.8750  106.7100  106.81  3391074   \n",
       "\n",
       "                                           SPY                          \\\n",
       "                          daily_return    open    high     low   close   \n",
       "time                                                                     \n",
       "2018-02-12 00:00:00-05:00          NaN  263.87  267.01  261.88  265.26   \n",
       "2018-02-13 00:00:00-05:00     0.000562  263.94  266.62  263.31  266.01   \n",
       "2018-02-14 00:00:00-05:00    -0.003463  264.47  270.00  263.97  269.71   \n",
       "2018-02-15 00:00:00-05:00     0.001221  271.59  273.01  268.77  273.00   \n",
       "2018-02-16 00:00:00-05:00     0.002064  272.31  275.32  272.27  273.09   \n",
       "\n",
       "                                                  \n",
       "                             volume daily_return  \n",
       "time                                              \n",
       "2018-02-12 00:00:00-05:00  99933794          NaN  \n",
       "2018-02-13 00:00:00-05:00  56891150     0.002827  \n",
       "2018-02-14 00:00:00-05:00  86705860     0.013909  \n",
       "2018-02-15 00:00:00-05:00  72021939     0.012198  \n",
       "2018-02-16 00:00:00-05:00  76314679     0.000330  "
      ]
     },
     "execution_count": 33,
     "metadata": {},
     "output_type": "execute_result"
    }
   ],
   "source": [
    "# Printing the simulation input data\n",
    "mc_thirty.portfolio_data.head()"
   ]
  },
  {
   "cell_type": "code",
   "execution_count": 35,
   "metadata": {},
   "outputs": [
    {
     "name": "stdout",
     "output_type": "stream",
     "text": [
      "Running Monte Carlo simulation number 0.\n",
      "Running Monte Carlo simulation number 10.\n",
      "Running Monte Carlo simulation number 20.\n",
      "Running Monte Carlo simulation number 30.\n",
      "Running Monte Carlo simulation number 40.\n",
      "Running Monte Carlo simulation number 50.\n",
      "Running Monte Carlo simulation number 60.\n",
      "Running Monte Carlo simulation number 70.\n",
      "Running Monte Carlo simulation number 80.\n",
      "Running Monte Carlo simulation number 90.\n",
      "Running Monte Carlo simulation number 100.\n"
     ]
    },
    {
     "name": "stderr",
     "output_type": "stream",
     "text": [
      "/Users/coenemmenegger/Desktop/Jupyter-Workplace/API_HW_/MCForecastTools.py:117: PerformanceWarning: DataFrame is highly fragmented.  This is usually the result of calling `frame.insert` many times, which has poor performance.  Consider joining all columns at once using pd.concat(axis=1) instead.  To get a de-fragmented frame, use `newframe = frame.copy()`\n",
      "  portfolio_cumulative_returns[n] = (1 + sim_df.fillna(0)).cumprod()\n"
     ]
    },
    {
     "name": "stdout",
     "output_type": "stream",
     "text": [
      "Running Monte Carlo simulation number 110.\n",
      "Running Monte Carlo simulation number 120.\n",
      "Running Monte Carlo simulation number 130.\n",
      "Running Monte Carlo simulation number 140.\n",
      "Running Monte Carlo simulation number 150.\n",
      "Running Monte Carlo simulation number 160.\n",
      "Running Monte Carlo simulation number 170.\n",
      "Running Monte Carlo simulation number 180.\n",
      "Running Monte Carlo simulation number 190.\n",
      "Running Monte Carlo simulation number 200.\n",
      "Running Monte Carlo simulation number 210.\n",
      "Running Monte Carlo simulation number 220.\n",
      "Running Monte Carlo simulation number 230.\n",
      "Running Monte Carlo simulation number 240.\n",
      "Running Monte Carlo simulation number 250.\n",
      "Running Monte Carlo simulation number 260.\n",
      "Running Monte Carlo simulation number 270.\n",
      "Running Monte Carlo simulation number 280.\n",
      "Running Monte Carlo simulation number 290.\n",
      "Running Monte Carlo simulation number 300.\n",
      "Running Monte Carlo simulation number 310.\n",
      "Running Monte Carlo simulation number 320.\n",
      "Running Monte Carlo simulation number 330.\n",
      "Running Monte Carlo simulation number 340.\n",
      "Running Monte Carlo simulation number 350.\n",
      "Running Monte Carlo simulation number 360.\n",
      "Running Monte Carlo simulation number 370.\n",
      "Running Monte Carlo simulation number 380.\n",
      "Running Monte Carlo simulation number 390.\n",
      "Running Monte Carlo simulation number 400.\n",
      "Running Monte Carlo simulation number 410.\n",
      "Running Monte Carlo simulation number 420.\n",
      "Running Monte Carlo simulation number 430.\n",
      "Running Monte Carlo simulation number 440.\n",
      "Running Monte Carlo simulation number 450.\n",
      "Running Monte Carlo simulation number 460.\n",
      "Running Monte Carlo simulation number 470.\n",
      "Running Monte Carlo simulation number 480.\n",
      "Running Monte Carlo simulation number 490.\n"
     ]
    },
    {
     "data": {
      "text/html": [
       "<div>\n",
       "<style scoped>\n",
       "    .dataframe tbody tr th:only-of-type {\n",
       "        vertical-align: middle;\n",
       "    }\n",
       "\n",
       "    .dataframe tbody tr th {\n",
       "        vertical-align: top;\n",
       "    }\n",
       "\n",
       "    .dataframe thead th {\n",
       "        text-align: right;\n",
       "    }\n",
       "</style>\n",
       "<table border=\"1\" class=\"dataframe\">\n",
       "  <thead>\n",
       "    <tr style=\"text-align: right;\">\n",
       "      <th></th>\n",
       "      <th>0</th>\n",
       "      <th>1</th>\n",
       "      <th>2</th>\n",
       "      <th>3</th>\n",
       "      <th>4</th>\n",
       "      <th>5</th>\n",
       "      <th>6</th>\n",
       "      <th>7</th>\n",
       "      <th>8</th>\n",
       "      <th>9</th>\n",
       "      <th>...</th>\n",
       "      <th>490</th>\n",
       "      <th>491</th>\n",
       "      <th>492</th>\n",
       "      <th>493</th>\n",
       "      <th>494</th>\n",
       "      <th>495</th>\n",
       "      <th>496</th>\n",
       "      <th>497</th>\n",
       "      <th>498</th>\n",
       "      <th>499</th>\n",
       "    </tr>\n",
       "  </thead>\n",
       "  <tbody>\n",
       "    <tr>\n",
       "      <th>0</th>\n",
       "      <td>1.000000</td>\n",
       "      <td>1.000000</td>\n",
       "      <td>1.000000</td>\n",
       "      <td>1.000000</td>\n",
       "      <td>1.000000</td>\n",
       "      <td>1.000000</td>\n",
       "      <td>1.000000</td>\n",
       "      <td>1.000000</td>\n",
       "      <td>1.000000</td>\n",
       "      <td>1.000000</td>\n",
       "      <td>...</td>\n",
       "      <td>1.000000</td>\n",
       "      <td>1.000000</td>\n",
       "      <td>1.000000</td>\n",
       "      <td>1.000000</td>\n",
       "      <td>1.000000</td>\n",
       "      <td>1.000000</td>\n",
       "      <td>1.000000</td>\n",
       "      <td>1.000000</td>\n",
       "      <td>1.000000</td>\n",
       "      <td>1.000000</td>\n",
       "    </tr>\n",
       "    <tr>\n",
       "      <th>1</th>\n",
       "      <td>0.991286</td>\n",
       "      <td>0.979731</td>\n",
       "      <td>1.004390</td>\n",
       "      <td>0.992499</td>\n",
       "      <td>1.006421</td>\n",
       "      <td>1.004647</td>\n",
       "      <td>0.995310</td>\n",
       "      <td>1.002180</td>\n",
       "      <td>0.991913</td>\n",
       "      <td>1.008805</td>\n",
       "      <td>...</td>\n",
       "      <td>0.991141</td>\n",
       "      <td>1.008863</td>\n",
       "      <td>1.008505</td>\n",
       "      <td>1.005239</td>\n",
       "      <td>0.998736</td>\n",
       "      <td>0.995671</td>\n",
       "      <td>1.008468</td>\n",
       "      <td>0.999014</td>\n",
       "      <td>0.984530</td>\n",
       "      <td>0.987822</td>\n",
       "    </tr>\n",
       "    <tr>\n",
       "      <th>2</th>\n",
       "      <td>0.990568</td>\n",
       "      <td>0.976268</td>\n",
       "      <td>0.998877</td>\n",
       "      <td>0.985879</td>\n",
       "      <td>1.010747</td>\n",
       "      <td>1.030605</td>\n",
       "      <td>1.004277</td>\n",
       "      <td>1.000602</td>\n",
       "      <td>1.007128</td>\n",
       "      <td>1.018390</td>\n",
       "      <td>...</td>\n",
       "      <td>0.989516</td>\n",
       "      <td>1.011963</td>\n",
       "      <td>1.020377</td>\n",
       "      <td>0.997860</td>\n",
       "      <td>0.995163</td>\n",
       "      <td>1.005674</td>\n",
       "      <td>1.018856</td>\n",
       "      <td>1.010781</td>\n",
       "      <td>0.990652</td>\n",
       "      <td>0.982897</td>\n",
       "    </tr>\n",
       "    <tr>\n",
       "      <th>3</th>\n",
       "      <td>0.983418</td>\n",
       "      <td>0.974270</td>\n",
       "      <td>1.005735</td>\n",
       "      <td>0.983946</td>\n",
       "      <td>1.009011</td>\n",
       "      <td>1.031906</td>\n",
       "      <td>0.995784</td>\n",
       "      <td>1.008455</td>\n",
       "      <td>1.003027</td>\n",
       "      <td>1.006863</td>\n",
       "      <td>...</td>\n",
       "      <td>0.993364</td>\n",
       "      <td>1.006061</td>\n",
       "      <td>1.028063</td>\n",
       "      <td>1.007134</td>\n",
       "      <td>0.998764</td>\n",
       "      <td>1.002827</td>\n",
       "      <td>1.014332</td>\n",
       "      <td>1.004759</td>\n",
       "      <td>0.977394</td>\n",
       "      <td>0.982797</td>\n",
       "    </tr>\n",
       "    <tr>\n",
       "      <th>4</th>\n",
       "      <td>0.983466</td>\n",
       "      <td>0.965822</td>\n",
       "      <td>1.003579</td>\n",
       "      <td>0.984131</td>\n",
       "      <td>1.010949</td>\n",
       "      <td>1.036252</td>\n",
       "      <td>0.990161</td>\n",
       "      <td>1.028118</td>\n",
       "      <td>1.001174</td>\n",
       "      <td>0.991128</td>\n",
       "      <td>...</td>\n",
       "      <td>0.974327</td>\n",
       "      <td>1.000091</td>\n",
       "      <td>1.027966</td>\n",
       "      <td>1.001997</td>\n",
       "      <td>1.004821</td>\n",
       "      <td>1.015067</td>\n",
       "      <td>1.018983</td>\n",
       "      <td>1.003390</td>\n",
       "      <td>0.983752</td>\n",
       "      <td>1.001309</td>\n",
       "    </tr>\n",
       "    <tr>\n",
       "      <th>...</th>\n",
       "      <td>...</td>\n",
       "      <td>...</td>\n",
       "      <td>...</td>\n",
       "      <td>...</td>\n",
       "      <td>...</td>\n",
       "      <td>...</td>\n",
       "      <td>...</td>\n",
       "      <td>...</td>\n",
       "      <td>...</td>\n",
       "      <td>...</td>\n",
       "      <td>...</td>\n",
       "      <td>...</td>\n",
       "      <td>...</td>\n",
       "      <td>...</td>\n",
       "      <td>...</td>\n",
       "      <td>...</td>\n",
       "      <td>...</td>\n",
       "      <td>...</td>\n",
       "      <td>...</td>\n",
       "      <td>...</td>\n",
       "      <td>...</td>\n",
       "    </tr>\n",
       "    <tr>\n",
       "      <th>7556</th>\n",
       "      <td>9.333254</td>\n",
       "      <td>21.074897</td>\n",
       "      <td>18.312594</td>\n",
       "      <td>61.235862</td>\n",
       "      <td>8.974921</td>\n",
       "      <td>19.582358</td>\n",
       "      <td>17.876362</td>\n",
       "      <td>13.408343</td>\n",
       "      <td>20.119116</td>\n",
       "      <td>23.636823</td>\n",
       "      <td>...</td>\n",
       "      <td>10.533243</td>\n",
       "      <td>15.589857</td>\n",
       "      <td>44.073369</td>\n",
       "      <td>21.991893</td>\n",
       "      <td>15.580399</td>\n",
       "      <td>34.049195</td>\n",
       "      <td>12.794261</td>\n",
       "      <td>7.550450</td>\n",
       "      <td>51.991301</td>\n",
       "      <td>16.203096</td>\n",
       "    </tr>\n",
       "    <tr>\n",
       "      <th>7557</th>\n",
       "      <td>9.276661</td>\n",
       "      <td>20.986698</td>\n",
       "      <td>18.299613</td>\n",
       "      <td>60.758645</td>\n",
       "      <td>8.984518</td>\n",
       "      <td>19.516234</td>\n",
       "      <td>17.955283</td>\n",
       "      <td>13.600938</td>\n",
       "      <td>20.347358</td>\n",
       "      <td>23.910674</td>\n",
       "      <td>...</td>\n",
       "      <td>10.388596</td>\n",
       "      <td>15.665506</td>\n",
       "      <td>43.890439</td>\n",
       "      <td>22.051993</td>\n",
       "      <td>15.447936</td>\n",
       "      <td>34.164703</td>\n",
       "      <td>12.615449</td>\n",
       "      <td>7.484492</td>\n",
       "      <td>52.487526</td>\n",
       "      <td>16.080065</td>\n",
       "    </tr>\n",
       "    <tr>\n",
       "      <th>7558</th>\n",
       "      <td>9.288274</td>\n",
       "      <td>21.089034</td>\n",
       "      <td>18.390549</td>\n",
       "      <td>60.323675</td>\n",
       "      <td>8.956974</td>\n",
       "      <td>19.528256</td>\n",
       "      <td>18.001662</td>\n",
       "      <td>13.468490</td>\n",
       "      <td>20.376295</td>\n",
       "      <td>24.090128</td>\n",
       "      <td>...</td>\n",
       "      <td>10.360948</td>\n",
       "      <td>15.805424</td>\n",
       "      <td>43.649103</td>\n",
       "      <td>21.866004</td>\n",
       "      <td>15.387057</td>\n",
       "      <td>34.391209</td>\n",
       "      <td>12.661840</td>\n",
       "      <td>7.483133</td>\n",
       "      <td>52.423019</td>\n",
       "      <td>16.066518</td>\n",
       "    </tr>\n",
       "    <tr>\n",
       "      <th>7559</th>\n",
       "      <td>9.265990</td>\n",
       "      <td>20.933374</td>\n",
       "      <td>18.313577</td>\n",
       "      <td>60.640253</td>\n",
       "      <td>9.015941</td>\n",
       "      <td>19.358244</td>\n",
       "      <td>17.938417</td>\n",
       "      <td>13.741977</td>\n",
       "      <td>20.188803</td>\n",
       "      <td>24.108954</td>\n",
       "      <td>...</td>\n",
       "      <td>10.387608</td>\n",
       "      <td>15.668667</td>\n",
       "      <td>43.813913</td>\n",
       "      <td>21.475414</td>\n",
       "      <td>15.100203</td>\n",
       "      <td>34.496774</td>\n",
       "      <td>12.412803</td>\n",
       "      <td>7.544374</td>\n",
       "      <td>52.524687</td>\n",
       "      <td>15.975100</td>\n",
       "    </tr>\n",
       "    <tr>\n",
       "      <th>7560</th>\n",
       "      <td>9.206681</td>\n",
       "      <td>20.971925</td>\n",
       "      <td>18.216566</td>\n",
       "      <td>60.046083</td>\n",
       "      <td>9.071862</td>\n",
       "      <td>19.365728</td>\n",
       "      <td>17.991104</td>\n",
       "      <td>13.644134</td>\n",
       "      <td>19.901798</td>\n",
       "      <td>24.194905</td>\n",
       "      <td>...</td>\n",
       "      <td>10.517376</td>\n",
       "      <td>15.558682</td>\n",
       "      <td>43.727985</td>\n",
       "      <td>21.380530</td>\n",
       "      <td>15.126223</td>\n",
       "      <td>34.581343</td>\n",
       "      <td>12.268984</td>\n",
       "      <td>7.568470</td>\n",
       "      <td>52.393423</td>\n",
       "      <td>15.898766</td>\n",
       "    </tr>\n",
       "  </tbody>\n",
       "</table>\n",
       "<p>7561 rows × 500 columns</p>\n",
       "</div>"
      ],
      "text/plain": [
       "           0          1          2          3         4          5    \\\n",
       "0     1.000000   1.000000   1.000000   1.000000  1.000000   1.000000   \n",
       "1     0.991286   0.979731   1.004390   0.992499  1.006421   1.004647   \n",
       "2     0.990568   0.976268   0.998877   0.985879  1.010747   1.030605   \n",
       "3     0.983418   0.974270   1.005735   0.983946  1.009011   1.031906   \n",
       "4     0.983466   0.965822   1.003579   0.984131  1.010949   1.036252   \n",
       "...        ...        ...        ...        ...       ...        ...   \n",
       "7556  9.333254  21.074897  18.312594  61.235862  8.974921  19.582358   \n",
       "7557  9.276661  20.986698  18.299613  60.758645  8.984518  19.516234   \n",
       "7558  9.288274  21.089034  18.390549  60.323675  8.956974  19.528256   \n",
       "7559  9.265990  20.933374  18.313577  60.640253  9.015941  19.358244   \n",
       "7560  9.206681  20.971925  18.216566  60.046083  9.071862  19.365728   \n",
       "\n",
       "            6          7          8          9    ...        490        491  \\\n",
       "0      1.000000   1.000000   1.000000   1.000000  ...   1.000000   1.000000   \n",
       "1      0.995310   1.002180   0.991913   1.008805  ...   0.991141   1.008863   \n",
       "2      1.004277   1.000602   1.007128   1.018390  ...   0.989516   1.011963   \n",
       "3      0.995784   1.008455   1.003027   1.006863  ...   0.993364   1.006061   \n",
       "4      0.990161   1.028118   1.001174   0.991128  ...   0.974327   1.000091   \n",
       "...         ...        ...        ...        ...  ...        ...        ...   \n",
       "7556  17.876362  13.408343  20.119116  23.636823  ...  10.533243  15.589857   \n",
       "7557  17.955283  13.600938  20.347358  23.910674  ...  10.388596  15.665506   \n",
       "7558  18.001662  13.468490  20.376295  24.090128  ...  10.360948  15.805424   \n",
       "7559  17.938417  13.741977  20.188803  24.108954  ...  10.387608  15.668667   \n",
       "7560  17.991104  13.644134  19.901798  24.194905  ...  10.517376  15.558682   \n",
       "\n",
       "            492        493        494        495        496       497  \\\n",
       "0      1.000000   1.000000   1.000000   1.000000   1.000000  1.000000   \n",
       "1      1.008505   1.005239   0.998736   0.995671   1.008468  0.999014   \n",
       "2      1.020377   0.997860   0.995163   1.005674   1.018856  1.010781   \n",
       "3      1.028063   1.007134   0.998764   1.002827   1.014332  1.004759   \n",
       "4      1.027966   1.001997   1.004821   1.015067   1.018983  1.003390   \n",
       "...         ...        ...        ...        ...        ...       ...   \n",
       "7556  44.073369  21.991893  15.580399  34.049195  12.794261  7.550450   \n",
       "7557  43.890439  22.051993  15.447936  34.164703  12.615449  7.484492   \n",
       "7558  43.649103  21.866004  15.387057  34.391209  12.661840  7.483133   \n",
       "7559  43.813913  21.475414  15.100203  34.496774  12.412803  7.544374   \n",
       "7560  43.727985  21.380530  15.126223  34.581343  12.268984  7.568470   \n",
       "\n",
       "            498        499  \n",
       "0      1.000000   1.000000  \n",
       "1      0.984530   0.987822  \n",
       "2      0.990652   0.982897  \n",
       "3      0.977394   0.982797  \n",
       "4      0.983752   1.001309  \n",
       "...         ...        ...  \n",
       "7556  51.991301  16.203096  \n",
       "7557  52.487526  16.080065  \n",
       "7558  52.423019  16.066518  \n",
       "7559  52.524687  15.975100  \n",
       "7560  52.393423  15.898766  \n",
       "\n",
       "[7561 rows x 500 columns]"
      ]
     },
     "execution_count": 35,
     "metadata": {},
     "output_type": "execute_result"
    }
   ],
   "source": [
    "# Running a Monte Carlo simulation to forecast 30 years cumulative returns\n",
    "mc_thirty.calc_cumulative_return()"
   ]
  },
  {
   "cell_type": "code",
   "execution_count": 37,
   "metadata": {},
   "outputs": [
    {
     "data": {
      "text/plain": [
       "<AxesSubplot:title={'center':'500 Simulations of Cumulative Portfolio Return Trajectories Over the Next 7560 Trading Days.'}>"
      ]
     },
     "execution_count": 37,
     "metadata": {},
     "output_type": "execute_result"
    },
    {
     "data": {
      "image/png": "[encoded data removed]",
      "text/plain": [
       "<Figure size 432x288 with 1 Axes>"
      ]
     },
     "metadata": {
      "needs_background": "light"
     },
     "output_type": "display_data"
    }
   ],
   "source": [
    "# Plot simulation outcomes\n",
    "sim_plot = mc_thirty.plot_simulation()\n",
    "sim_plot"
   ]
  },
  {
   "cell_type": "code",
   "execution_count": 39,
   "metadata": {},
   "outputs": [
    {
     "data": {
      "text/plain": [
       "<AxesSubplot:title={'center':'Distribution of Final Cumuluative Returns Across All 500 Simulations'}, ylabel='Frequency'>"
      ]
     },
     "execution_count": 39,
     "metadata": {},
     "output_type": "execute_result"
    },
    {
     "data": {
      "image/png": "[encoded data removed]",
      "text/plain": [
       "<Figure size 432x288 with 1 Axes>"
      ]
     },
     "metadata": {
      "needs_background": "light"
     },
     "output_type": "display_data"
    }
   ],
   "source": [
    "# Plot probability distribution and confidence intervals\n",
    "dist_plot = mc_thirty.plot_distribution()\n",
    "dist_plot"
   ]
  },
  {
   "cell_type": "markdown",
   "metadata": {},
   "source": [
    "### Retirement Analysis"
   ]
  },
  {
   "cell_type": "code",
   "execution_count": 40,
   "metadata": {},
   "outputs": [
    {
     "data": {
      "text/plain": [
       "count           500.000000\n",
       "mean             18.527130\n",
       "std              15.743592\n",
       "min               1.373517\n",
       "25%               9.048536\n",
       "50%              14.492546\n",
       "75%              22.718641\n",
       "max             180.845605\n",
       "95% CI Lower      3.680083\n",
       "95% CI Upper     57.395367\n",
       "Name: 7560, dtype: float64"
      ]
     },
     "execution_count": 40,
     "metadata": {},
     "output_type": "execute_result"
    }
   ],
   "source": [
    "# Fetch summary statistics from the Monte Carlo simulation results\n",
    "sum_cumulative_return = mc_thirty.summarize_cumulative_return()\n",
    "\n",
    "# Print summary statistics\n",
    "sum_cumulative_return"
   ]
  },
  {
   "cell_type": "markdown",
   "metadata": {},
   "source": [
    "### Calculate the expected portfolio return at the `95%` lower and upper confidence intervals based on a `$20,000` initial investment."
   ]
  },
  {
   "cell_type": "code",
   "execution_count": 42,
   "metadata": {},
   "outputs": [
    {
     "name": "stdout",
     "output_type": "stream",
     "text": [
      "There is a 95% chance that an initial investment of $20000 in the portfolio over the next 30 years will end within in the range of $1147907.34 and $73601.66\n"
     ]
    }
   ],
   "source": [
    "# Set initial investment\n",
    "initial_investment = 20000\n",
    "\n",
    "# Use the lower and upper `95%` confidence intervals to calculate the range of the possible outcomes of our $20,000\n",
    "ci_upper = round(sum_cumulative_return[8]*initial_investment,2)\n",
    "ci_lower = round(sum_cumulative_return[9]*initial_investment,2)\n",
    "# Print results\n",
    "print(f\"There is a 95% chance that an initial investment of ${initial_investment} in the portfolio\"\n",
    "      f\" over the next 30 years will end within in the range of\"\n",
    "      f\" ${ci_lower} and ${ci_upper}\")"
   ]
  },
  {
   "cell_type": "markdown",
   "metadata": {},
   "source": [
    "### Calculate the expected portfolio return at the `95%` lower and upper confidence intervals based on a `50%` increase in the initial investment."
   ]
  },
  {
   "cell_type": "code",
   "execution_count": 43,
   "metadata": {},
   "outputs": [
    {
     "name": "stdout",
     "output_type": "stream",
     "text": [
      "There is a 95% chance that an initial investment of $30000.0 in the portfolio over the next 30 years will end within in the range of $1721861.01 and $110402.49\n"
     ]
    }
   ],
   "source": [
    "# Set initial investment\n",
    "initial_investment = 20000 * 1.5\n",
    "\n",
    "# Use the lower and upper `95%` confidence intervals to calculate the range of the possible outcomes of our $30,000\n",
    "ci_upper = round(sum_cumulative_return[8]*initial_investment,2)\n",
    "ci_lower = round(sum_cumulative_return[9]*initial_investment,2)\n",
    "\n",
    "# Print results\n",
    "print(f\"There is a 95% chance that an initial investment of ${initial_investment} in the portfolio\"\n",
    "      f\" over the next 30 years will end within in the range of\"\n",
    "      f\" ${ci_lower} and ${ci_upper}\")"
   ]
  }
 ],
 "metadata": {
  "kernelspec": {
   "display_name": "Python [conda env:alpacaenv]",
   "language": "python",
   "name": "conda-env-alpacaenv-py"
  },
  "language_info": {
   "codemirror_mode": {
    "name": "ipython",
    "version": 3
   },
   "file_extension": ".py",
   "mimetype": "text/x-python",
   "name": "python",
   "nbconvert_exporter": "python",
   "pygments_lexer": "ipython3",
   "version": "3.7.11"
  },
  "nteract": {
   "version": "0.28.0"
  }
 },
 "nbformat": 4,
 "nbformat_minor": 4
}
